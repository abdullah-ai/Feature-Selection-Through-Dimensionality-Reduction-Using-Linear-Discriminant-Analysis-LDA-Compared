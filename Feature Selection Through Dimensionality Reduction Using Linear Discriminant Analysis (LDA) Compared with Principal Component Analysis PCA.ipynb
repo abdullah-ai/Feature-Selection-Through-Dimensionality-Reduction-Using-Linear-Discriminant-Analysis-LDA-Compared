{
 "cells": [
  {
   "cell_type": "markdown",
   "id": "d81b21a1",
   "metadata": {},
   "source": [
    "## Importing relevant libraries"
   ]
  },
  {
   "cell_type": "code",
   "execution_count": 96,
   "id": "319d841f",
   "metadata": {},
   "outputs": [],
   "source": [
    "import numpy as np\n",
    "import pandas as pd\n",
    "import time\n",
    "from matplotlib import pyplot as plt\n",
    "from sklearn.model_selection import train_test_split\n",
    "from sklearn.decomposition import PCA\n",
    "from sklearn.discriminant_analysis import LinearDiscriminantAnalysis  as LDA\n",
    "from sklearn.preprocessing import StandardScaler\n",
    "from sklearn.svm import SVC\n",
    "from sklearn.metrics import confusion_matrix\n",
    "from sklearn.metrics import accuracy_score"
   ]
  },
  {
   "cell_type": "code",
   "execution_count": 97,
   "id": "f1519663",
   "metadata": {},
   "outputs": [
    {
     "data": {
      "text/html": [
       "<div>\n",
       "<style scoped>\n",
       "    .dataframe tbody tr th:only-of-type {\n",
       "        vertical-align: middle;\n",
       "    }\n",
       "\n",
       "    .dataframe tbody tr th {\n",
       "        vertical-align: top;\n",
       "    }\n",
       "\n",
       "    .dataframe thead th {\n",
       "        text-align: right;\n",
       "    }\n",
       "</style>\n",
       "<table border=\"1\" class=\"dataframe\">\n",
       "  <thead>\n",
       "    <tr style=\"text-align: right;\">\n",
       "      <th></th>\n",
       "      <th>fixed acidity</th>\n",
       "      <th>volatile acidity</th>\n",
       "      <th>citric acid</th>\n",
       "      <th>residual sugar</th>\n",
       "      <th>chlorides</th>\n",
       "      <th>free sulfur dioxide</th>\n",
       "      <th>total sulfur dioxide</th>\n",
       "      <th>density</th>\n",
       "      <th>pH</th>\n",
       "      <th>sulphates</th>\n",
       "      <th>alcohol</th>\n",
       "      <th>quality</th>\n",
       "    </tr>\n",
       "  </thead>\n",
       "  <tbody>\n",
       "    <tr>\n",
       "      <th>0</th>\n",
       "      <td>7.4</td>\n",
       "      <td>0.700</td>\n",
       "      <td>0.00</td>\n",
       "      <td>1.9</td>\n",
       "      <td>0.076</td>\n",
       "      <td>11.0</td>\n",
       "      <td>34.0</td>\n",
       "      <td>0.99780</td>\n",
       "      <td>3.51</td>\n",
       "      <td>0.56</td>\n",
       "      <td>9.4</td>\n",
       "      <td>5</td>\n",
       "    </tr>\n",
       "    <tr>\n",
       "      <th>1</th>\n",
       "      <td>7.8</td>\n",
       "      <td>0.880</td>\n",
       "      <td>0.00</td>\n",
       "      <td>2.6</td>\n",
       "      <td>0.098</td>\n",
       "      <td>25.0</td>\n",
       "      <td>67.0</td>\n",
       "      <td>0.99680</td>\n",
       "      <td>3.20</td>\n",
       "      <td>0.68</td>\n",
       "      <td>9.8</td>\n",
       "      <td>5</td>\n",
       "    </tr>\n",
       "    <tr>\n",
       "      <th>2</th>\n",
       "      <td>7.8</td>\n",
       "      <td>0.760</td>\n",
       "      <td>0.04</td>\n",
       "      <td>2.3</td>\n",
       "      <td>0.092</td>\n",
       "      <td>15.0</td>\n",
       "      <td>54.0</td>\n",
       "      <td>0.99700</td>\n",
       "      <td>3.26</td>\n",
       "      <td>0.65</td>\n",
       "      <td>9.8</td>\n",
       "      <td>5</td>\n",
       "    </tr>\n",
       "    <tr>\n",
       "      <th>3</th>\n",
       "      <td>11.2</td>\n",
       "      <td>0.280</td>\n",
       "      <td>0.56</td>\n",
       "      <td>1.9</td>\n",
       "      <td>0.075</td>\n",
       "      <td>17.0</td>\n",
       "      <td>60.0</td>\n",
       "      <td>0.99800</td>\n",
       "      <td>3.16</td>\n",
       "      <td>0.58</td>\n",
       "      <td>9.8</td>\n",
       "      <td>6</td>\n",
       "    </tr>\n",
       "    <tr>\n",
       "      <th>4</th>\n",
       "      <td>7.4</td>\n",
       "      <td>0.700</td>\n",
       "      <td>0.00</td>\n",
       "      <td>1.9</td>\n",
       "      <td>0.076</td>\n",
       "      <td>11.0</td>\n",
       "      <td>34.0</td>\n",
       "      <td>0.99780</td>\n",
       "      <td>3.51</td>\n",
       "      <td>0.56</td>\n",
       "      <td>9.4</td>\n",
       "      <td>5</td>\n",
       "    </tr>\n",
       "    <tr>\n",
       "      <th>...</th>\n",
       "      <td>...</td>\n",
       "      <td>...</td>\n",
       "      <td>...</td>\n",
       "      <td>...</td>\n",
       "      <td>...</td>\n",
       "      <td>...</td>\n",
       "      <td>...</td>\n",
       "      <td>...</td>\n",
       "      <td>...</td>\n",
       "      <td>...</td>\n",
       "      <td>...</td>\n",
       "      <td>...</td>\n",
       "    </tr>\n",
       "    <tr>\n",
       "      <th>1594</th>\n",
       "      <td>6.2</td>\n",
       "      <td>0.600</td>\n",
       "      <td>0.08</td>\n",
       "      <td>2.0</td>\n",
       "      <td>0.090</td>\n",
       "      <td>32.0</td>\n",
       "      <td>44.0</td>\n",
       "      <td>0.99490</td>\n",
       "      <td>3.45</td>\n",
       "      <td>0.58</td>\n",
       "      <td>10.5</td>\n",
       "      <td>5</td>\n",
       "    </tr>\n",
       "    <tr>\n",
       "      <th>1595</th>\n",
       "      <td>5.9</td>\n",
       "      <td>0.550</td>\n",
       "      <td>0.10</td>\n",
       "      <td>2.2</td>\n",
       "      <td>0.062</td>\n",
       "      <td>39.0</td>\n",
       "      <td>51.0</td>\n",
       "      <td>0.99512</td>\n",
       "      <td>3.52</td>\n",
       "      <td>0.76</td>\n",
       "      <td>11.2</td>\n",
       "      <td>6</td>\n",
       "    </tr>\n",
       "    <tr>\n",
       "      <th>1596</th>\n",
       "      <td>6.3</td>\n",
       "      <td>0.510</td>\n",
       "      <td>0.13</td>\n",
       "      <td>2.3</td>\n",
       "      <td>0.076</td>\n",
       "      <td>29.0</td>\n",
       "      <td>40.0</td>\n",
       "      <td>0.99574</td>\n",
       "      <td>3.42</td>\n",
       "      <td>0.75</td>\n",
       "      <td>11.0</td>\n",
       "      <td>6</td>\n",
       "    </tr>\n",
       "    <tr>\n",
       "      <th>1597</th>\n",
       "      <td>5.9</td>\n",
       "      <td>0.645</td>\n",
       "      <td>0.12</td>\n",
       "      <td>2.0</td>\n",
       "      <td>0.075</td>\n",
       "      <td>32.0</td>\n",
       "      <td>44.0</td>\n",
       "      <td>0.99547</td>\n",
       "      <td>3.57</td>\n",
       "      <td>0.71</td>\n",
       "      <td>10.2</td>\n",
       "      <td>5</td>\n",
       "    </tr>\n",
       "    <tr>\n",
       "      <th>1598</th>\n",
       "      <td>6.0</td>\n",
       "      <td>0.310</td>\n",
       "      <td>0.47</td>\n",
       "      <td>3.6</td>\n",
       "      <td>0.067</td>\n",
       "      <td>18.0</td>\n",
       "      <td>42.0</td>\n",
       "      <td>0.99549</td>\n",
       "      <td>3.39</td>\n",
       "      <td>0.66</td>\n",
       "      <td>11.0</td>\n",
       "      <td>6</td>\n",
       "    </tr>\n",
       "  </tbody>\n",
       "</table>\n",
       "<p>1599 rows × 12 columns</p>\n",
       "</div>"
      ],
      "text/plain": [
       "      fixed acidity  volatile acidity  citric acid  residual sugar  chlorides  \\\n",
       "0               7.4             0.700         0.00             1.9      0.076   \n",
       "1               7.8             0.880         0.00             2.6      0.098   \n",
       "2               7.8             0.760         0.04             2.3      0.092   \n",
       "3              11.2             0.280         0.56             1.9      0.075   \n",
       "4               7.4             0.700         0.00             1.9      0.076   \n",
       "...             ...               ...          ...             ...        ...   \n",
       "1594            6.2             0.600         0.08             2.0      0.090   \n",
       "1595            5.9             0.550         0.10             2.2      0.062   \n",
       "1596            6.3             0.510         0.13             2.3      0.076   \n",
       "1597            5.9             0.645         0.12             2.0      0.075   \n",
       "1598            6.0             0.310         0.47             3.6      0.067   \n",
       "\n",
       "      free sulfur dioxide  total sulfur dioxide  density    pH  sulphates  \\\n",
       "0                    11.0                  34.0  0.99780  3.51       0.56   \n",
       "1                    25.0                  67.0  0.99680  3.20       0.68   \n",
       "2                    15.0                  54.0  0.99700  3.26       0.65   \n",
       "3                    17.0                  60.0  0.99800  3.16       0.58   \n",
       "4                    11.0                  34.0  0.99780  3.51       0.56   \n",
       "...                   ...                   ...      ...   ...        ...   \n",
       "1594                 32.0                  44.0  0.99490  3.45       0.58   \n",
       "1595                 39.0                  51.0  0.99512  3.52       0.76   \n",
       "1596                 29.0                  40.0  0.99574  3.42       0.75   \n",
       "1597                 32.0                  44.0  0.99547  3.57       0.71   \n",
       "1598                 18.0                  42.0  0.99549  3.39       0.66   \n",
       "\n",
       "      alcohol  quality  \n",
       "0         9.4        5  \n",
       "1         9.8        5  \n",
       "2         9.8        5  \n",
       "3         9.8        6  \n",
       "4         9.4        5  \n",
       "...       ...      ...  \n",
       "1594     10.5        5  \n",
       "1595     11.2        6  \n",
       "1596     11.0        6  \n",
       "1597     10.2        5  \n",
       "1598     11.0        6  \n",
       "\n",
       "[1599 rows x 12 columns]"
      ]
     },
     "execution_count": 97,
     "metadata": {},
     "output_type": "execute_result"
    }
   ],
   "source": [
    "data = pd.read_csv(\"winequality.csv\")\n",
    "df = data.copy()\n",
    "df"
   ]
  },
  {
   "cell_type": "code",
   "execution_count": 98,
   "id": "b99a0db7",
   "metadata": {},
   "outputs": [
    {
     "data": {
      "text/plain": [
       "array([5, 6, 7, 4, 8, 3], dtype=int64)"
      ]
     },
     "execution_count": 98,
     "metadata": {},
     "output_type": "execute_result"
    }
   ],
   "source": [
    "# we will explore our unique values in ou predictour target fetaure which is qualit\n",
    "df['quality'].unique()"
   ]
  },
  {
   "cell_type": "markdown",
   "id": "eed8b728",
   "metadata": {},
   "source": [
    "Our goal is to 1) seprate the data from the wine samples,\n",
    "2) group them into clusters according to their quality grade"
   ]
  },
  {
   "cell_type": "code",
   "execution_count": 99,
   "id": "93e33418",
   "metadata": {},
   "outputs": [],
   "source": [
    "#Let's standradize the data as the data have a wide range in terms of value for each column\n",
    "scaler = StandardScaler()"
   ]
  },
  {
   "cell_type": "code",
   "execution_count": 100,
   "id": "b9fe1bef",
   "metadata": {},
   "outputs": [],
   "source": [
    "x=df.iloc[:,0:11].values\n",
    "y=df.iloc[:,11].values\n",
    "x_std = scaler.fit_transform(x)"
   ]
  },
  {
   "cell_type": "code",
   "execution_count": 101,
   "id": "ce853a3f",
   "metadata": {},
   "outputs": [
    {
     "name": "stdout",
     "output_type": "stream",
     "text": [
      "[5 5 5 ... 6 5 6]\n"
     ]
    }
   ],
   "source": [
    "print(y)"
   ]
  },
  {
   "cell_type": "markdown",
   "id": "4240305b",
   "metadata": {},
   "source": [
    "## Calculating the class mean"
   ]
  },
  {
   "cell_type": "code",
   "execution_count": 102,
   "id": "be2362b2",
   "metadata": {},
   "outputs": [
    {
     "name": "stdout",
     "output_type": "stream",
     "text": [
      "Mean Vector quality 3 :[ 0.   2.  -0.5  0.1  0.7 -0.5 -0.7  0.4  0.6 -0.5 -0.4]\n",
      "\n",
      "Mean Vector quality 4 :[-0.3  0.9 -0.5  0.1  0.1 -0.3 -0.3 -0.1  0.5 -0.4 -0.1]\n",
      "\n",
      "Mean Vector quality 5 :[-0.1  0.3 -0.1 -0.   0.1  0.1  0.3  0.2 -0.  -0.2 -0.5]\n",
      "\n",
      "Mean Vector quality 6 :[ 0.  -0.2  0.  -0.  -0.1 -0.  -0.2 -0.1  0.   0.1  0.2]\n",
      "\n",
      "Mean Vector quality 7 :[ 0.3 -0.7  0.5  0.1 -0.2 -0.2 -0.3 -0.3 -0.1  0.5  1. ]\n",
      "\n",
      "Mean Vector quality 8 :[ 0.1 -0.6  0.6  0.  -0.4 -0.2 -0.4 -0.8 -0.3  0.6  1.6]\n",
      "\n"
     ]
    }
   ],
   "source": [
    "# The mean for each seperate quality grade of wine\n",
    "np.set_printoptions(precision=1) # precision set to one to show each point close to the first decimal number \n",
    "\n",
    "mean_vectors=[] # to store our mean vectors that will result\n",
    "for i in range(3,9): # a for loop for values in array y \n",
    "    mean_vectors.append(np.mean(x_std[y==i], axis=0)) #using np.mean to find the class mean for each value interation in y set\n",
    "    print(\"Mean Vector quality %s :%s\\n\"%(i, mean_vectors[i-3])) "
   ]
  },
  {
   "cell_type": "markdown",
   "id": "8e215d8c",
   "metadata": {},
   "source": [
    "We conclude from above for example is the Mean Vector quality 3 the second element means that the mean volitale acidity for wines graded by three is two  "
   ]
  },
  {
   "cell_type": "markdown",
   "id": "baf0dbfa",
   "metadata": {},
   "source": [
    "## Calculating the Within- and Between-Class Scatter Matrcies"
   ]
  },
  {
   "cell_type": "markdown",
   "id": "0902f911",
   "metadata": {},
   "source": [
    "#### Clculating the within-class scatter matrix\n",
    "That will help us in calculating Eigenvectors and Egienvalue of the inverse within-between matrcie,\n",
    "so that we can make a fetaure selection and lower the dimension of our dataset known that within will represented as Sw and between as Sb"
   ]
  },
  {
   "cell_type": "code",
   "execution_count": 103,
   "id": "05030ed7",
   "metadata": {},
   "outputs": [
    {
     "name": "stdout",
     "output_type": "stream",
     "text": [
      "withing class-scatter matrix:\n",
      " [[ 1.6e+03 -3.3e+02  1.0e+03  1.8e+02  1.7e+02 -2.3e+02 -1.4e+02  1.1e+03\n",
      "  -1.1e+03  2.4e+02 -2.0e+02]\n",
      " [-3.3e+02  1.3e+03 -7.4e+02  1.1e+01  1.7e+01 -3.9e+01  2.3e+01 -6.5e+01\n",
      "   3.3e+02 -2.6e+02 -4.3e+01]\n",
      " [ 1.0e+03 -7.4e+02  1.5e+03  2.2e+02  3.7e+02 -7.7e+01  1.2e+02  6.5e+02\n",
      "  -8.4e+02  4.1e+02 -7.7e-01]\n",
      " [ 1.8e+02  1.1e+01  2.2e+02  1.6e+03  9.3e+01  3.1e+02  3.3e+02  5.8e+02\n",
      "  -1.4e+02  1.9e-01  4.6e+01]\n",
      " [ 1.7e+02  1.7e+01  3.7e+02  9.3e+01  1.6e+03 -4.9e+00  3.4e+01  2.8e+02\n",
      "  -4.3e+02  6.5e+02 -2.5e+02]\n",
      " [-2.3e+02 -3.9e+01 -7.7e+01  3.1e+02 -4.9e+00  1.6e+03  1.0e+03 -6.5e+01\n",
      "   1.2e+02  1.1e+02 -3.7e+01]\n",
      " [-1.4e+02  2.3e+01  1.2e+02  3.3e+02  3.4e+01  1.0e+03  1.5e+03  3.8e+01\n",
      "  -9.3e+01  1.5e+02 -1.3e+02]\n",
      " [ 1.1e+03 -6.5e+01  6.5e+02  5.8e+02  2.8e+02 -6.5e+01  3.8e+01  1.5e+03\n",
      "  -5.5e+02  3.1e+02 -6.3e+02]\n",
      " [-1.1e+03  3.3e+02 -8.4e+02 -1.4e+02 -4.3e+02  1.2e+02 -9.3e+01 -5.5e+02\n",
      "   1.6e+03 -3.0e+02  3.5e+02]\n",
      " [ 2.4e+02 -2.6e+02  4.1e+02  1.9e-01  6.5e+02  1.1e+02  1.5e+02  3.1e+02\n",
      "  -3.0e+02  1.5e+03 -5.5e+01]\n",
      " [-2.0e+02 -4.3e+01 -7.7e-01  4.6e+01 -2.5e+02 -3.7e+01 -1.3e+02 -6.3e+02\n",
      "   3.5e+02 -5.5e+01  1.2e+03]]\n"
     ]
    }
   ],
   "source": [
    "s_w =np.zeros((11, 11)) # as we have 11 features\n",
    "\n",
    "# make the iteration process \n",
    "# note: that our goal is to calculat each covariance matrix for each seperate quality grade\n",
    "# then sum these invidual class covariance matrcies up\n",
    "for i,mv in zip(range(3,9), mean_vectors): # again we iterate though the quality grade and the mean vectors the idea is to calculate each covar matrix for each seperate quality grade then sum all of these\n",
    "    # zip func above because we need to iterate and pair each element for new tuple \n",
    "    class_sc_mat=np.zeros((11,11))\n",
    "    \n",
    "    for row in x_std[y==i]:\n",
    "            \n",
    "        row,mv=row.reshape(11,1), mv.reshape(11,1)\n",
    "        class_sc_mat+=(row-mv).dot((row-mv).T)\n",
    "            \n",
    "    s_w+=class_sc_mat\n",
    "print('withing class-scatter matrix:\\n',s_w)\n"
   ]
  },
  {
   "cell_type": "markdown",
   "id": "7a24080c",
   "metadata": {},
   "source": [
    "#### Clculating the Between-class scatter matrix\n"
   ]
  },
  {
   "cell_type": "code",
   "execution_count": 104,
   "id": "7694eebf",
   "metadata": {},
   "outputs": [
    {
     "name": "stdout",
     "output_type": "stream",
     "text": [
      "Between class scatter matrix\n",
      " [[  30.9  -78.1   52.     6.4  -23.8  -12.6  -38.   -33.7  -13.6   52.6\n",
      "    99.5]\n",
      " [ -78.1  256.6 -142.7   -7.9   81.    22.    99.4  100.7   42.5 -154.7\n",
      "  -280.3]\n",
      " [  52.  -142.7   93.1   11.   -45.9  -20.2  -60.6  -63.1  -27.9   93.6\n",
      "   176.5]\n",
      " [   6.4   -7.9   11.     5.3   -4.3   -7.    -8.1   -8.5   -1.5    8.7\n",
      "    21.7]\n",
      " [ -23.8   81.   -45.9   -4.3   29.7   13.8   42.    40.8    9.4  -52.6\n",
      "  -104.3]\n",
      " [ -12.6   22.   -20.2   -7.    13.8   23.5   46.4   30.1   -8.4  -27.7\n",
      "   -73.7]\n",
      " [ -38.    99.4  -60.6   -8.1   42.    46.4  118.4   75.6  -13.2  -85.8\n",
      "  -196.9]\n",
      " [ -33.7  100.7  -63.1   -8.5   40.8   30.1   75.6   64.5    5.5  -75.4\n",
      "  -162. ]\n",
      " [ -13.6   42.5  -27.9   -1.5    9.4   -8.4  -13.2    5.5   21.5  -19.\n",
      "   -20.8]\n",
      " [  52.6 -154.7   93.6    8.7  -52.6  -27.7  -85.8  -75.4  -19.   104.5\n",
      "   204.9]\n",
      " [  99.5 -280.3  176.5   21.7 -104.3  -73.7 -196.9 -162.   -20.8  204.9\n",
      "   426.4]]\n"
     ]
    }
   ],
   "source": [
    "overall_mean =np.mean(x_std, axis=0)\n",
    "c=0\n",
    "s_b=np.zeros((11,11))\n",
    "for i,mean_vec in enumerate(mean_vectors):\n",
    "    n=x_std[y==i+3,:].shape[0]\n",
    "    c+=1\n",
    "    mean_vec=mean_vec.reshape(11,1)\n",
    "    overall_mean=overall_mean.reshape(11,1)\n",
    "    s_b+=n*(mean_vec-overall_mean).dot((mean_vec-overall_mean).T)\n",
    "    \n",
    "print('Between class scatter matrix\\n',s_b)"
   ]
  },
  {
   "cell_type": "markdown",
   "id": "8a4d3286",
   "metadata": {},
   "source": [
    "### Finding egienvalues and their associated eigenvectors pairs"
   ]
  },
  {
   "cell_type": "markdown",
   "id": "81013a5e",
   "metadata": {},
   "source": [
    "#### By finding the eigenvectors and ordering them by level of importance, we'll construct the linear discirminants - our new axes   "
   ]
  },
  {
   "cell_type": "markdown",
   "id": "d9c6adc0",
   "metadata": {},
   "source": [
    "#### The new axes will comprise our lower-dimensional space onto which we'll project the data points "
   ]
  },
  {
   "cell_type": "code",
   "execution_count": 105,
   "id": "f97fa6c3",
   "metadata": {},
   "outputs": [],
   "source": [
    "eig_vals, eig_vecs = np.linalg.eig(np.linalg.inv(s_w).dot(s_b))"
   ]
  },
  {
   "cell_type": "code",
   "execution_count": 106,
   "id": "8dae6972",
   "metadata": {},
   "outputs": [
    {
     "data": {
      "text/plain": [
       "array([ 6.3e-01+0.0e+00j,  7.6e-02+0.0e+00j,  2.5e-02+0.0e+00j,\n",
       "        6.4e-03+0.0e+00j,  4.2e-03+0.0e+00j,  1.9e-17+4.2e-17j,\n",
       "        1.9e-17-4.2e-17j,  1.8e-17+1.0e-17j,  1.8e-17-1.0e-17j,\n",
       "       -2.7e-17+0.0e+00j, -5.7e-18+0.0e+00j])"
      ]
     },
     "execution_count": 106,
     "metadata": {},
     "output_type": "execute_result"
    }
   ],
   "source": [
    "eig_vals"
   ]
  },
  {
   "cell_type": "code",
   "execution_count": 107,
   "id": "cd1a8b51",
   "metadata": {},
   "outputs": [
    {
     "data": {
      "text/plain": [
       "array([[ 2.5e-01+0.j , -4.6e-01+0.j ,  1.4e-01+0.j ,  6.9e-01+0.j ,\n",
       "        -1.9e-01+0.j , -2.3e-01-0.2j, -2.3e-01+0.2j, -2.4e-01+0.1j,\n",
       "        -2.4e-01-0.1j, -1.5e-01+0.j , -3.7e-01+0.j ],\n",
       "       [-3.5e-01+0.j , -4.8e-01+0.j ,  3.0e-01+0.j , -1.6e-01+0.j ,\n",
       "         2.6e-01+0.j ,  2.7e-02+0.1j,  2.7e-02-0.1j, -8.2e-02+0.j ,\n",
       "        -8.2e-02-0.j ,  6.8e-02+0.j , -8.9e-02+0.j ],\n",
       "       [-4.3e-02+0.j , -1.8e-01+0.j ,  4.3e-01+0.j , -7.3e-02+0.j ,\n",
       "         3.1e-01+0.j , -9.1e-03+0.1j, -9.1e-03-0.1j,  3.5e-01-0.3j,\n",
       "         3.5e-01+0.3j, -2.9e-01+0.j , -3.0e-01+0.j ],\n",
       "       [ 1.3e-01+0.j , -2.3e-01+0.j ,  2.4e-01+0.j ,  1.9e-01+0.j ,\n",
       "        -3.8e-01+0.j , -1.5e-02+0.3j, -1.5e-02-0.3j, -1.4e-01+0.2j,\n",
       "        -1.4e-01-0.2j,  1.1e-01+0.j ,  4.6e-01+0.j ],\n",
       "       [-1.9e-01+0.j , -8.0e-02+0.j , -1.4e-01+0.j ,  1.4e-01+0.j ,\n",
       "         2.1e-01+0.j , -1.7e-01-0.2j, -1.7e-01+0.2j,  3.2e-01+0.2j,\n",
       "         3.2e-01-0.2j, -1.7e-02+0.j ,  2.3e-01+0.j ],\n",
       "       [ 9.7e-02+0.j ,  1.4e-02+0.j , -3.6e-01+0.j , -7.4e-02+0.j ,\n",
       "         3.7e-01+0.j , -1.2e-01+0.3j, -1.2e-01-0.3j,  8.0e-02+0.2j,\n",
       "         8.0e-02-0.2j, -3.5e-01+0.j , -7.9e-02+0.j ],\n",
       "       [-3.2e-01+0.j ,  2.6e-01+0.j ,  4.8e-01+0.j ,  1.1e-01+0.j ,\n",
       "        -1.6e-01+0.j , -6.9e-04-0.3j, -6.9e-04+0.3j,  2.6e-01+0.j ,\n",
       "         2.6e-01-0.j ,  1.0e-01+0.j , -2.7e-01+0.j ],\n",
       "       [-2.3e-01+0.j ,  4.8e-01+0.j , -5.0e-01+0.j , -3.7e-01+0.j ,\n",
       "         4.9e-01+0.j ,  4.3e-01+0.j ,  4.3e-01-0.j ,  5.2e-02-0.1j,\n",
       "         5.2e-02+0.1j,  1.6e-01+0.j ,  1.2e-01+0.j ],\n",
       "       [-3.9e-02+0.j , -3.8e-01+0.j , -7.0e-02+0.j ,  4.5e-01+0.j ,\n",
       "        -2.3e-01+0.j , -1.4e-01-0.2j, -1.4e-01+0.2j,  5.1e-01+0.j ,\n",
       "         5.1e-01-0.j , -1.4e-01+0.j , -5.8e-01+0.j ],\n",
       "       [ 4.0e-01+0.j , -6.7e-02+0.j ,  5.9e-02+0.j , -3.2e-03+0.j ,\n",
       "        -8.4e-02+0.j , -1.5e-02+0.3j, -1.5e-02-0.3j, -2.2e-01+0.1j,\n",
       "        -2.2e-01-0.1j,  8.2e-01+0.j ,  2.6e-01+0.j ],\n",
       "       [ 6.6e-01+0.j ,  1.5e-01+0.j , -1.2e-01+0.j , -2.9e-01+0.j ,\n",
       "         3.7e-01+0.j ,  1.8e-01-0.3j,  1.8e-01+0.3j,  2.3e-01+0.j ,\n",
       "         2.3e-01-0.j , -1.7e-01+0.j , -6.1e-02+0.j ]])"
      ]
     },
     "execution_count": 107,
     "metadata": {},
     "output_type": "execute_result"
    }
   ],
   "source": [
    "eig_vecs"
   ]
  },
  {
   "cell_type": "markdown",
   "id": "8b7ba7b8",
   "metadata": {},
   "source": [
    "#### what's left to do is to pair and sort them in a descinding order according to the eigenvalue"
   ]
  },
  {
   "cell_type": "code",
   "execution_count": 108,
   "id": "84d28488",
   "metadata": {},
   "outputs": [
    {
     "name": "stdout",
     "output_type": "stream",
     "text": [
      "\n",
      "EigenVectors 1:\n",
      "[[ 0.2]\n",
      " [-0.4]\n",
      " [-0. ]\n",
      " [ 0.1]\n",
      " [-0.2]\n",
      " [ 0.1]\n",
      " [-0.3]\n",
      " [-0.2]\n",
      " [-0. ]\n",
      " [ 0.4]\n",
      " [ 0.7]]\n",
      "\n",
      "EigenVectors 1:6.32e-01\n",
      "\n",
      "EigenVectors 2:\n",
      "[[-0.5]\n",
      " [-0.5]\n",
      " [-0.2]\n",
      " [-0.2]\n",
      " [-0.1]\n",
      " [ 0. ]\n",
      " [ 0.3]\n",
      " [ 0.5]\n",
      " [-0.4]\n",
      " [-0.1]\n",
      " [ 0.1]]\n",
      "\n",
      "EigenVectors 2:7.64e-02\n",
      "\n",
      "EigenVectors 3:\n",
      "[[ 0.1]\n",
      " [ 0.3]\n",
      " [ 0.4]\n",
      " [ 0.2]\n",
      " [-0.1]\n",
      " [-0.4]\n",
      " [ 0.5]\n",
      " [-0.5]\n",
      " [-0.1]\n",
      " [ 0.1]\n",
      " [-0.1]]\n",
      "\n",
      "EigenVectors 3:2.48e-02\n",
      "\n",
      "EigenVectors 4:\n",
      "[[ 0.7]\n",
      " [-0.2]\n",
      " [-0.1]\n",
      " [ 0.2]\n",
      " [ 0.1]\n",
      " [-0.1]\n",
      " [ 0.1]\n",
      " [-0.4]\n",
      " [ 0.4]\n",
      " [-0. ]\n",
      " [-0.3]]\n",
      "\n",
      "EigenVectors 4:6.43e-03\n",
      "\n",
      "EigenVectors 5:\n",
      "[[-0.2]\n",
      " [ 0.3]\n",
      " [ 0.3]\n",
      " [-0.4]\n",
      " [ 0.2]\n",
      " [ 0.4]\n",
      " [-0.2]\n",
      " [ 0.5]\n",
      " [-0.2]\n",
      " [-0.1]\n",
      " [ 0.4]]\n",
      "\n",
      "EigenVectors 5:4.18e-03\n",
      "\n",
      "EigenVectors 6:\n",
      "[[-0.2]\n",
      " [ 0. ]\n",
      " [-0. ]\n",
      " [-0. ]\n",
      " [-0.2]\n",
      " [-0.1]\n",
      " [-0. ]\n",
      " [ 0.4]\n",
      " [-0.1]\n",
      " [-0. ]\n",
      " [ 0.2]]\n",
      "\n",
      "EigenVectors 6:1.87e-17\n",
      "\n",
      "EigenVectors 7:\n",
      "[[-0.2]\n",
      " [ 0. ]\n",
      " [-0. ]\n",
      " [-0. ]\n",
      " [-0.2]\n",
      " [-0.1]\n",
      " [-0. ]\n",
      " [ 0.4]\n",
      " [-0.1]\n",
      " [-0. ]\n",
      " [ 0.2]]\n",
      "\n",
      "EigenVectors 7:1.87e-17\n",
      "\n",
      "EigenVectors 8:\n",
      "[[-0.2]\n",
      " [-0.1]\n",
      " [ 0.3]\n",
      " [-0.1]\n",
      " [ 0.3]\n",
      " [ 0.1]\n",
      " [ 0.3]\n",
      " [ 0.1]\n",
      " [ 0.5]\n",
      " [-0.2]\n",
      " [ 0.2]]\n",
      "\n",
      "EigenVectors 8:1.77e-17\n",
      "\n",
      "EigenVectors 9:\n",
      "[[-0.2]\n",
      " [-0.1]\n",
      " [ 0.3]\n",
      " [-0.1]\n",
      " [ 0.3]\n",
      " [ 0.1]\n",
      " [ 0.3]\n",
      " [ 0.1]\n",
      " [ 0.5]\n",
      " [-0.2]\n",
      " [ 0.2]]\n",
      "\n",
      "EigenVectors 9:1.77e-17\n",
      "\n",
      "EigenVectors 10:\n",
      "[[-0.2]\n",
      " [ 0.1]\n",
      " [-0.3]\n",
      " [ 0.1]\n",
      " [-0. ]\n",
      " [-0.3]\n",
      " [ 0.1]\n",
      " [ 0.2]\n",
      " [-0.1]\n",
      " [ 0.8]\n",
      " [-0.2]]\n",
      "\n",
      "EigenVectors 10:-2.72e-17\n",
      "\n",
      "EigenVectors 11:\n",
      "[[-0.4]\n",
      " [-0.1]\n",
      " [-0.3]\n",
      " [ 0.5]\n",
      " [ 0.2]\n",
      " [-0.1]\n",
      " [-0.3]\n",
      " [ 0.1]\n",
      " [-0.6]\n",
      " [ 0.3]\n",
      " [-0.1]]\n",
      "\n",
      "EigenVectors 11:-5.74e-18\n"
     ]
    }
   ],
   "source": [
    "for i in range(len(eig_vals)): # for loop to interate inside eigen value elements till the last element\n",
    "    eigvec_sc=eig_vecs[:,i].reshape(11,1) \n",
    "    print('\\nEigenVectors {}:\\n{}'.format(i+1,eigvec_sc.real)) # it could be complex numbers for eigenval and egienvac entries so we use .real func here to transpose both of them\n",
    "    print('\\nEigenVectors {:}:{:.2e}'.format(i+1,eig_vals[i].real))"
   ]
  },
  {
   "cell_type": "markdown",
   "id": "9ebccd20",
   "metadata": {},
   "source": [
    "#### what still to do is we need to reorder eigenvalues in pairs from largest to smallest, this way we are arranging our new axes by level of importance "
   ]
  },
  {
   "cell_type": "markdown",
   "id": "5674a9f4",
   "metadata": {},
   "source": [
    "#### we need the eigenvalues in order to find the percentage of variance carried by each of our linear discreminants (the eigenvectors)"
   ]
  },
  {
   "cell_type": "markdown",
   "id": "e6fb4c50",
   "metadata": {},
   "source": [
    "    and to find the above we should divide each eigenvalue by the sum of all eigenvalues and multiply that by 100 Note that this will give us the precentage of variants explained by the eigenvector associated with this eigenvalue\n",
    "\n",
    "    but we will have one issue will arise here the negative eigenvalue and the problem with this negative eigenvalue is if we tried to calculate the above ratio we will obtain a negative result for each negative eigenvalue \n",
    "\n",
    "so how do we solve this.?\n",
    " \n",
    "    one way to fix that is to take the absloute value of the negative values ie remove the minus infront of the negative eigenvalues and insted multiplying the corresponding eigenvectors by -1 "
   ]
  },
  {
   "cell_type": "markdown",
   "id": "39924ca7",
   "metadata": {},
   "source": [
    "##### Example : \n",
    "    suppose we have Matrix A and it has Eigenvalue mu = -1\n",
    "    With a coressponding Eigenvector V = (1, 2)\n",
    "    Av=(-1)v\n",
    "    \n",
    "    we can observe the equation also in this equlivant form mu = 1, v = (-1, -2)\n",
    "    Let's jumpt to the code"
   ]
  },
  {
   "cell_type": "code",
   "execution_count": 109,
   "id": "0343a318",
   "metadata": {},
   "outputs": [
    {
     "name": "stdout",
     "output_type": "stream",
     "text": [
      "Evalues in descending order:\n",
      "\n",
      "Evalue:\n",
      "\n",
      "0.6318983806659392\n",
      "\n",
      "\n",
      "Associated evector:\n",
      "\n",
      "[ 0.2 -0.4 -0.   0.1 -0.2  0.1 -0.3 -0.2 -0.   0.4  0.7]\n",
      "\n",
      "\n",
      "Evalue:\n",
      "\n",
      "0.07644038712342208\n",
      "\n",
      "\n",
      "Associated evector:\n",
      "\n",
      "[-0.5 -0.5 -0.2 -0.2 -0.1  0.   0.3  0.5 -0.4 -0.1  0.1]\n",
      "\n",
      "\n",
      "Evalue:\n",
      "\n",
      "0.02479746521139609\n",
      "\n",
      "\n",
      "Associated evector:\n",
      "\n",
      "[ 0.1  0.3  0.4  0.2 -0.1 -0.4  0.5 -0.5 -0.1  0.1 -0.1]\n",
      "\n",
      "\n",
      "Evalue:\n",
      "\n",
      "0.006428277646001779\n",
      "\n",
      "\n",
      "Associated evector:\n",
      "\n",
      "[ 0.7 -0.2 -0.1  0.2  0.1 -0.1  0.1 -0.4  0.4 -0.  -0.3]\n",
      "\n",
      "\n",
      "Evalue:\n",
      "\n",
      "0.0041799591450444665\n",
      "\n",
      "\n",
      "Associated evector:\n",
      "\n",
      "[-0.2  0.3  0.3 -0.4  0.2  0.4 -0.2  0.5 -0.2 -0.1  0.4]\n",
      "\n",
      "\n",
      "Evalue:\n",
      "\n",
      "2.7163343043128788e-17\n",
      "\n",
      "\n",
      "Associated evector:\n",
      "\n",
      "[ 0.2 -0.1  0.3 -0.1  0.   0.3 -0.1 -0.2  0.1 -0.8  0.2]\n",
      "\n",
      "\n",
      "Evalue:\n",
      "\n",
      "1.8740549882459568e-17\n",
      "\n",
      "\n",
      "Associated evector:\n",
      "\n",
      "[-0.2  0.  -0.  -0.  -0.2 -0.1 -0.   0.4 -0.1 -0.   0.2]\n",
      "\n",
      "\n",
      "Evalue:\n",
      "\n",
      "1.8740549882459568e-17\n",
      "\n",
      "\n",
      "Associated evector:\n",
      "\n",
      "[-0.2  0.  -0.  -0.  -0.2 -0.1 -0.   0.4 -0.1 -0.   0.2]\n",
      "\n",
      "\n",
      "Evalue:\n",
      "\n",
      "1.7658250030995973e-17\n",
      "\n",
      "\n",
      "Associated evector:\n",
      "\n",
      "[-0.2 -0.1  0.3 -0.1  0.3  0.1  0.3  0.1  0.5 -0.2  0.2]\n",
      "\n",
      "\n",
      "Evalue:\n",
      "\n",
      "1.7658250030995973e-17\n",
      "\n",
      "\n",
      "Associated evector:\n",
      "\n",
      "[-0.2 -0.1  0.3 -0.1  0.3  0.1  0.3  0.1  0.5 -0.2  0.2]\n",
      "\n",
      "\n",
      "Evalue:\n",
      "\n",
      "5.738418952244056e-18\n",
      "\n",
      "\n",
      "Associated evector:\n",
      "\n",
      "[ 0.4  0.1  0.3 -0.5 -0.2  0.1  0.3 -0.1  0.6 -0.3  0.1]\n",
      "\n",
      "\n"
     ]
    }
   ],
   "source": [
    "# creating a list to store our values\n",
    "eigen_pairs=[]\n",
    "\n",
    "for i in range(len(eig_vals)):\n",
    "    if eig_vals[i]<0:\n",
    "        eigen_pairs.append((-eig_vals[i],-eig_vecs[:,i]))\n",
    "    else:            \n",
    "        eigen_pairs.append((eig_vals[i],eig_vecs[:,i]))            \n",
    "eigen_pairs=sorted(eigen_pairs, key=lambda k: k[0], reverse=True)\n",
    "\n",
    "print('Evalues in descending order:\\n')\n",
    "for i in range (len(eigen_pairs)):\n",
    "    print('Evalue:\\n')\n",
    "    print(eigen_pairs[i][0].real)\n",
    "    print('\\n')\n",
    "    print('Associated evector:\\n')\n",
    "    print(eigen_pairs[i][1].real)\n",
    "    print('\\n')"
   ]
  },
  {
   "cell_type": "markdown",
   "id": "0606aae9",
   "metadata": {},
   "source": [
    "## Analysis of LDA\n"
   ]
  },
  {
   "cell_type": "markdown",
   "id": "5f698390",
   "metadata": {},
   "source": [
    "#### Show the explained variance by each respective eigenvector  "
   ]
  },
  {
   "cell_type": "markdown",
   "id": "78f75e9c",
   "metadata": {},
   "source": [
    "to find the newly added soncstructed accsess significance we must add up all eigenvalues and divide each of them sepretaly by the sum to obtain the precentage of retained variance"
   ]
  },
  {
   "cell_type": "code",
   "execution_count": 110,
   "id": "59b18c15",
   "metadata": {},
   "outputs": [
    {
     "name": "stdout",
     "output_type": "stream",
     "text": [
      "Variance explained:\n",
      "\n",
      "eigenvalue 1: 84.96%\n",
      "eigenvalue 2: 10.28%\n",
      "eigenvalue 3: 3.33%\n",
      "eigenvalue 4: 0.86%\n",
      "eigenvalue 5: 0.56%\n",
      "eigenvalue 6: 0.00%\n",
      "eigenvalue 7: 0.00%\n",
      "eigenvalue 8: 0.00%\n",
      "eigenvalue 9: 0.00%\n",
      "eigenvalue 10: 0.00%\n",
      "eigenvalue 11: 0.00%\n"
     ]
    }
   ],
   "source": [
    "print('Variance explained:\\n')\n",
    "eigv_sum=sum(eig_vals)\n",
    "for i, j in enumerate(eigen_pairs):\n",
    "    print('eigenvalue {0:}: {1:.2%}'.format(i+1, (j[0].real/eigv_sum.real)))"
   ]
  },
  {
   "cell_type": "markdown",
   "id": "9e883744",
   "metadata": {},
   "source": [
    "from the above we can say that the first two eigenvalues are more than 80% it's 95% "
   ]
  },
  {
   "cell_type": "markdown",
   "id": "68930620",
   "metadata": {},
   "source": [
    "#### take the first two eigenvectors retaining the most variance "
   ]
  },
  {
   "cell_type": "code",
   "execution_count": 111,
   "id": "152fc971",
   "metadata": {},
   "outputs": [
    {
     "name": "stdout",
     "output_type": "stream",
     "text": [
      "Matrix w:\n",
      " [[ 0.2 -0.5]\n",
      " [-0.4 -0.5]\n",
      " [-0.  -0.2]\n",
      " [ 0.1 -0.2]\n",
      " [-0.2 -0.1]\n",
      " [ 0.1  0. ]\n",
      " [-0.3  0.3]\n",
      " [-0.2  0.5]\n",
      " [-0.  -0.4]\n",
      " [ 0.4 -0.1]\n",
      " [ 0.7  0.1]]\n"
     ]
    }
   ],
   "source": [
    "w=np.hstack((eigen_pairs[0][1].reshape(11,1), eigen_pairs[1][1].reshape(11,1)))\n",
    "print('Matrix w:\\n', w.real)"
   ]
  },
  {
   "cell_type": "markdown",
   "id": "be3a5499",
   "metadata": {},
   "source": [
    "#### project the data onto the new axes (linear discrminant)"
   ]
  },
  {
   "cell_type": "code",
   "execution_count": 112,
   "id": "65fa43ce",
   "metadata": {},
   "outputs": [
    {
     "data": {
      "text/plain": [
       "array([[-1.4+0.j, -0.3+0.j],\n",
       "       [-1.2+0.j, -0.2+0.j],\n",
       "       [-1. +0.j, -0.1+0.j],\n",
       "       ...,\n",
       "       [ 0.7+0.j,  0.3+0.j],\n",
       "       [-0.3+0.j, -0.4+0.j],\n",
       "       [ 0.8+0.j,  0.4+0.j]])"
      ]
     },
     "execution_count": 112,
     "metadata": {},
     "output_type": "execute_result"
    }
   ],
   "source": [
    "x_lda=x_std.dot(w)\n",
    "x_lda"
   ]
  },
  {
   "cell_type": "code",
   "execution_count": 113,
   "id": "feb0a923",
   "metadata": {},
   "outputs": [
    {
     "data": {
      "text/plain": [
       "(1599, 2)"
      ]
     },
     "execution_count": 113,
     "metadata": {},
     "output_type": "execute_result"
    }
   ],
   "source": [
    "x_lda.shape"
   ]
  },
  {
   "cell_type": "markdown",
   "id": "e3357306",
   "metadata": {},
   "source": [
    "# LDA v PCA"
   ]
  },
  {
   "cell_type": "markdown",
   "id": "196419ca",
   "metadata": {},
   "source": [
    "### plot the dataset after performing LDA"
   ]
  },
  {
   "cell_type": "code",
   "execution_count": 114,
   "id": "867b8572",
   "metadata": {},
   "outputs": [
    {
     "data": {
      "image/png": "[encoded data removed]",
      "text/plain": [
       "<Figure size 432x288 with 1 Axes>"
      ]
     },
     "metadata": {
      "needs_background": "light"
     },
     "output_type": "display_data"
    }
   ],
   "source": [
    "def plot_step_lda():\n",
    "    fig=plt.figure()\n",
    "    \n",
    "    ax=plt.subplot(111)\n",
    "    \n",
    "    for label,color in zip(\n",
    "        range(3,9),('orange','blue','yellow','black','red','green')):\n",
    "        \n",
    "        \n",
    "        plt.scatter(x=x_lda[:,0].real[y == label],\n",
    "            y=x_lda[:,1].real[y == label],\n",
    "        \n",
    "        \n",
    "        color=color,\n",
    "        alpha=0.5,\n",
    "        label=label\n",
    "                   )\n",
    "        \n",
    "    plt.xlabel=('Linear Discriminant 1')\n",
    "    plt.xlabel=('Linear Discriminant 2')\n",
    "    \n",
    "    leg=plt.legend(loc='upper right', fancybox=True)\n",
    "    leg.get_frame().set_alpha(0.5)\n",
    "    plt.title('LDA: wine data projection onto the first 2 linear discrminants')\n",
    "    \n",
    "    ax.spines['top'].set_visible(False)\n",
    "    ax.spines['right'].set_visible(False)\n",
    "    ax.spines['bottom'].set_visible(False)\n",
    "    ax.spines['left'].set_visible(False)\n",
    "\n",
    "    plt.grid()\n",
    "    plt.show()\n",
    "    \n",
    "plot_step_lda()"
   ]
  },
  {
   "cell_type": "markdown",
   "id": "ec3072ef",
   "metadata": {},
   "source": [
    "### plot the dataset after performing PCA"
   ]
  },
  {
   "cell_type": "code",
   "execution_count": 115,
   "id": "96f72af3",
   "metadata": {},
   "outputs": [],
   "source": [
    "pca = PCA(n_components=2)\n",
    "x_pca=pca.fit_transform(x_std)"
   ]
  },
  {
   "cell_type": "code",
   "execution_count": 116,
   "id": "bd4a2912",
   "metadata": {},
   "outputs": [
    {
     "data": {
      "image/png": "[encoded data removed]",
      "text/plain": [
       "<Figure size 432x288 with 1 Axes>"
      ]
     },
     "metadata": {
      "needs_background": "light"
     },
     "output_type": "display_data"
    }
   ],
   "source": [
    "def plot_step_pca():\n",
    "    fig=plt.figure()\n",
    "    \n",
    "    ax=plt.subplot(111)\n",
    "    \n",
    "    for label,color in zip(\n",
    "        range(3,9),('red','green','yellow','orange','black','blue')):\n",
    "        \n",
    "        \n",
    "        plt.scatter(x=x_pca[:,0].real[y == label],\n",
    "            y=x_pca[:,1].real[y == label],\n",
    "        \n",
    "        \n",
    "        color=color,\n",
    "        alpha=0.5,\n",
    "        label=label\n",
    "                   )\n",
    "        \n",
    "    plt.xlabel=('Principal Component 1')\n",
    "    plt.xlabel=('Principal Component 2')\n",
    "    \n",
    "    leg=plt.legend(loc='upper right', fancybox=True)\n",
    "    leg.get_frame().set_alpha(0.5)\n",
    "    plt.title('PCA: wine data projection onto the first 2 Principal Component')\n",
    "    \n",
    "    ax.spines['top'].set_visible(False)\n",
    "    ax.spines['right'].set_visible(False)\n",
    "    ax.spines['bottom'].set_visible(False)\n",
    "    ax.spines['left'].set_visible(False)\n",
    "\n",
    "    plt.grid()\n",
    "    plt.show()\n",
    "    \n",
    "plot_step_pca()"
   ]
  },
  {
   "cell_type": "markdown",
   "id": "fd344815",
   "metadata": {},
   "source": [
    "# Setting up the classfier to compare LDA v PCA"
   ]
  },
  {
   "cell_type": "markdown",
   "id": "66a6eb90",
   "metadata": {},
   "source": [
    "### split the dataset into training and testing part"
   ]
  },
  {
   "cell_type": "markdown",
   "id": "607f1551",
   "metadata": {},
   "source": [
    "Finshing the comparison between LDAnPCA using classfier imported from sklearn.svm import svc"
   ]
  },
  {
   "cell_type": "code",
   "execution_count": 117,
   "id": "9e0aa8cf",
   "metadata": {},
   "outputs": [],
   "source": [
    "x_train, x_test, y_train, y_test = train_test_split(x,y,test_size=0.2,random_state=0)\n"
   ]
  },
  {
   "cell_type": "code",
   "execution_count": 118,
   "id": "82283100",
   "metadata": {},
   "outputs": [],
   "source": [
    "scaler = StandardScaler()\n",
    "x_train=scaler.fit_transform(x_train) \n",
    "#.fit takes the dataset we aim to standradize as an argument and computes it's mean and std\n",
    "x_test=scaler.transform(x_test)\n",
    "# .transform applies the formula for every feature's value\n",
    "# .fit_transform applied the two methods at the same time\n",
    "# Data Leakage is when you try to relearn the mean and std in order to accuratley test the selected model for classification "
   ]
  },
  {
   "cell_type": "markdown",
   "id": "70c5cd16",
   "metadata": {},
   "source": [
    "# coding the classfier for PCA and LDA"
   ]
  },
  {
   "cell_type": "markdown",
   "id": "50d261d5",
   "metadata": {},
   "source": [
    "## perform LDA with 2 linear discrminant and store the results from the training and testing parts"
   ]
  },
  {
   "cell_type": "code",
   "execution_count": 119,
   "id": "215b23d5",
   "metadata": {},
   "outputs": [],
   "source": [
    "lda = LDA(n_components=2)"
   ]
  },
  {
   "cell_type": "code",
   "execution_count": 120,
   "id": "a8b56ae4",
   "metadata": {},
   "outputs": [],
   "source": [
    "x_train_lda =lda.fit_transform(x_train,y_train) # fitting the training data finds the 2 linear discrminant\n",
    "# .Fit  finds the 2 linear discrminant\n",
    "# .Transform projects the data\n",
    "# and thus lower the dimension of our data"
   ]
  },
  {
   "cell_type": "code",
   "execution_count": 121,
   "id": "ed8e9858",
   "metadata": {},
   "outputs": [],
   "source": [
    "x_test_lda=lda.transform(x_test) # projects the data"
   ]
  },
  {
   "cell_type": "markdown",
   "id": "739023d6",
   "metadata": {},
   "source": [
    "## perform PCA with 2 Principal Components and store the results from the training and testing parts"
   ]
  },
  {
   "cell_type": "code",
   "execution_count": 122,
   "id": "0c108288",
   "metadata": {},
   "outputs": [],
   "source": [
    "pca=PCA(n_components=2)"
   ]
  },
  {
   "cell_type": "code",
   "execution_count": 123,
   "id": "56f30cd3",
   "metadata": {},
   "outputs": [],
   "source": [
    "x_train_pca=pca.fit_transform(x_train,y_train)"
   ]
  },
  {
   "cell_type": "code",
   "execution_count": 124,
   "id": "820542b8",
   "metadata": {},
   "outputs": [],
   "source": [
    "x_test_pca=pca.transform(x_test)"
   ]
  },
  {
   "cell_type": "markdown",
   "id": "6ef371cc",
   "metadata": {},
   "source": [
    "#### import the classifier"
   ]
  },
  {
   "cell_type": "code",
   "execution_count": 125,
   "id": "e140c924",
   "metadata": {},
   "outputs": [],
   "source": [
    "svclassifier=SVC(kernel='linear')"
   ]
  },
  {
   "cell_type": "markdown",
   "id": "f91e5f9c",
   "metadata": {},
   "source": [
    "### Run the classifier through the LDA train and test sets and return the neccessary time for training and testing "
   ]
  },
  {
   "cell_type": "markdown",
   "id": "01b9355b",
   "metadata": {},
   "source": [
    "    Steps\n",
    "    \n",
    "        1) timing the code before and after training\n",
    "       2) calculate the difference in order to get the training time\n",
    "      3) follow the same procedure when testing time for both algorithm"
   ]
  },
  {
   "cell_type": "code",
   "execution_count": 134,
   "id": "a292b7ce",
   "metadata": {},
   "outputs": [],
   "source": [
    "def train_test_lda():\n",
    "    time_for_train_test_lda=[]\n",
    "    start_train_lda=time.time()\n",
    "    svclassifier.fit(x_train_lda,y_train) # save the quality grade for the train set\n",
    "    finish_train_lda=time.time()\n",
    "    \n",
    "    start_test_lda=time.time()\n",
    "    y_pred_lda=svclassifier.predict(x_test_lda)\n",
    "    finish_test_lda=time.time()\n",
    "    \n",
    "    time_for_train_test_lda.append(finish_train_lda - start_train_lda)\n",
    "    time_for_train_test_lda.append(finish_test_lda - start_test_lda)\n",
    "    time_for_train_test_lda.append(y_pred_lda)    \n",
    "    \n",
    "    return time_for_train_test_lda"
   ]
  },
  {
   "cell_type": "markdown",
   "id": "ae21029b",
   "metadata": {},
   "source": [
    "### Run the classifier through the PCA train and test sets and return the neccessary time for training and testing "
   ]
  },
  {
   "cell_type": "code",
   "execution_count": 140,
   "id": "1ad59b24",
   "metadata": {},
   "outputs": [],
   "source": [
    "def train_test_pca():\n",
    "    time_for_train_test_pca=[]\n",
    "    start_train_pca=time.time()\n",
    "    svclassifier.fit(x_train_pca,y_train) # save the quality grade for the train set\n",
    "    finish_train_pca=time.time()\n",
    "    \n",
    "    start_test_pca=time.time()\n",
    "    y_pred_pca=svclassifier.predict(x_test_pca)\n",
    "    finish_test_pca=time.time()\n",
    "    \n",
    "    time_for_train_test_pca.append(finish_train_pca - start_train_pca)\n",
    "    time_for_train_test_pca.append(finish_test_pca - start_test_pca)\n",
    "    time_for_train_test_pca.append(y_pred_pca)  \n",
    "    \n",
    "    return time_for_train_test_pca"
   ]
  },
  {
   "cell_type": "markdown",
   "id": "924fb57b",
   "metadata": {},
   "source": [
    "# Analysis of the training and testing times for the classifiers and it's accuracy"
   ]
  },
  {
   "cell_type": "code",
   "execution_count": 141,
   "id": "22e97a24",
   "metadata": {},
   "outputs": [
    {
     "name": "stdout",
     "output_type": "stream",
     "text": [
      "Average time for training out of 10 runs LDA:0.06810050010681153\n",
      "Average time for testing out of 10 runs LDA:0.008985352516174317\n"
     ]
    }
   ],
   "source": [
    "train_lda=0\n",
    "test_lda=0\n",
    "for i in range(10):\n",
    "    \n",
    "    c=train_test_lda()\n",
    "    train_lda+=c[0]\n",
    "    test_lda+=c[1]\n",
    "    \n",
    "print('Average time for training out of 10 runs LDA:{}'.format(train_lda/10))\n",
    "print('Average time for testing out of 10 runs LDA:{}'.format(test_lda/10))\n"
   ]
  },
  {
   "cell_type": "code",
   "execution_count": 142,
   "id": "eac7db05",
   "metadata": {},
   "outputs": [
    {
     "name": "stdout",
     "output_type": "stream",
     "text": [
      "Average time for training out of 10 runs PCA:0.08644764423370362\n",
      "Average time for testing out of 10 runs PCA:0.015708374977111816\n"
     ]
    }
   ],
   "source": [
    "train_pca=0\n",
    "test_pca=0\n",
    "for i in range(10):\n",
    "    \n",
    "    m=train_test_pca()\n",
    "    train_pca+=m[0]\n",
    "    test_pca+=m[1]\n",
    "    \n",
    "print('Average time for training out of 10 runs PCA:{}'.format(train_pca/10))\n",
    "print('Average time for testing out of 10 runs PCA:{}'.format(test_pca/10))"
   ]
  },
  {
   "cell_type": "markdown",
   "id": "c60c7138",
   "metadata": {},
   "source": [
    "### Measure the accuracy"
   ]
  },
  {
   "cell_type": "code",
   "execution_count": 159,
   "id": "c477542b",
   "metadata": {},
   "outputs": [],
   "source": [
    "a = train_test_lda()\n",
    "b = train_test_pca()"
   ]
  },
  {
   "cell_type": "markdown",
   "id": "3c1332b0",
   "metadata": {},
   "source": [
    "#### before measure the accuracy we need to print out the confusion matrix for LDA"
   ]
  },
  {
   "cell_type": "code",
   "execution_count": 160,
   "id": "1e3424c4",
   "metadata": {},
   "outputs": [
    {
     "name": "stdout",
     "output_type": "stream",
     "text": [
      "confussion matrix for LDA:\n",
      "\n",
      "[[  0   0   2   0   0   0]\n",
      " [  0   0   6   5   0   0]\n",
      " [  0   0 107  28   0   0]\n",
      " [  0   0  45  97   0   0]\n",
      " [  0   0   1  26   0   0]\n",
      " [  0   0   0   3   0   0]]\n",
      "\n",
      "\n",
      "LDA accuracy: 0.6375\n"
     ]
    }
   ],
   "source": [
    "# Confussion matrix is a table that shows which wines were graded correctly and which were not \n",
    "# shows us the number of wines that we correctly identified in class 3, as well as the number of wines in class 3 which we misclassified\n",
    "# we use confusion matrix because it help us improve our model by analyzing the misclassified data and adjusting parameters accordingly \n",
    "cm_lda=confusion_matrix(y_test,a[2])\n",
    "print('confussion matrix for LDA:\\n')\n",
    "print(cm_lda)\n",
    "print('\\n')\n",
    "print('LDA accuracy:'+' '+ str(accuracy_score(y_test,a[2])))"
   ]
  },
  {
   "cell_type": "code",
   "execution_count": 161,
   "id": "464fae4d",
   "metadata": {},
   "outputs": [
    {
     "name": "stdout",
     "output_type": "stream",
     "text": [
      "confussion matrix for PCA:\n",
      "\n",
      "[[ 0  0  0  2  0  0]\n",
      " [ 0  0  4  7  0  0]\n",
      " [ 0  0 87 48  0  0]\n",
      " [ 0  0 54 88  0  0]\n",
      " [ 0  0  4 23  0  0]\n",
      " [ 0  0  0  3  0  0]]\n",
      "\n",
      "\n",
      "PCA accuracy: 0.546875\n"
     ]
    }
   ],
   "source": [
    "cm_pca=confusion_matrix(y_test,b[2])\n",
    "print('confussion matrix for PCA:\\n')\n",
    "print(cm_pca)\n",
    "print('\\n')\n",
    "print('PCA accuracy:'+' '+ str(accuracy_score(y_test,b[2])))"
   ]
  },
  {
   "cell_type": "code",
   "execution_count": null,
   "id": "e1dfe5c3",
   "metadata": {},
   "outputs": [],
   "source": []
  }
 ],
 "metadata": {
  "kernelspec": {
   "display_name": "Python 3 (ipykernel)",
   "language": "python",
   "name": "python3"
  },
  "language_info": {
   "codemirror_mode": {
    "name": "ipython",
    "version": 3
   },
   "file_extension": ".py",
   "mimetype": "text/x-python",
   "name": "python",
   "nbconvert_exporter": "python",
   "pygments_lexer": "ipython3",
   "version": "3.10.4"
  }
 },
 "nbformat": 4,
 "nbformat_minor": 5
}
